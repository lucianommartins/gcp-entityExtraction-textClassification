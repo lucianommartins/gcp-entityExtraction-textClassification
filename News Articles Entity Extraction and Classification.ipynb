{
 "cells": [
  {
   "cell_type": "markdown",
   "metadata": {},
   "source": [
    "## News Articles Entity Extraction and Classification with Google AutoML Natural Language API"
   ]
  },
  {
   "cell_type": "markdown",
   "metadata": {},
   "source": [
    "### Introduction\n",
    "\n",
    "A common problem faced by many Media and News companies is the ability to, in a timely manner, extract useful metada from news articles to (1) help classify them on internal repositories and (2) enable a better search positioning by adding more data to SEO configuration.\n",
    "\n",
    "In this tutorial we gonna go through an step by step of how to perform the following tasks using Google AutoML:\n",
    "- analyze one news article and get all entities from that article\n",
    "- classify this article according to its type - science, arts, sports, etc\n",
    "- as a reference for Portuguese speakers, this exercise will also consider translating things from English to Portuguese when appropriate\n",
    "\n",
    "For this simple prototype, a hardcoded text is being used. But this can be used as base for an API that can digest Cloud Storage files, runtime text information, web crawlers data, etc.\n",
    "\n",
    "**It is important reinforce:** all those results are possible to be generated with agility and high confidence without the need of manually training, optimizing and testing machine learning models or writing machine learning code - which increases drastically the time to market of generated solutions.\n",
    "\n",
    "A reference of all built-in classifications available on AutoML can be found at: https://cloud.google.com/natural-language/docs/categories"
   ]
  },
  {
   "cell_type": "markdown",
   "metadata": {},
   "source": [
    "### How does AutoML Natural Language API work?\n",
    "\n",
    "AutoML is a managed service available at Google Cloud where training data and machine learning models are created, curated and managed by Google and customers only need to run predictions/inferences against the available API.\n",
    "\n",
    "As an example, you can go to https://cloud.google.com/natural-language and check the live demo where you add the sample text \"Google, headquartered in Mountain View (1600 Amphitheatre Pkwy, Mountain View, CA 940430), unveiled the new Android phone for $799 at the Consumer Electronic Show. Sundar Pichai said in his keynote that users love their new Android phones\", click analyze and see the following results. First for the entities extraction:\n",
    "\n",
    "![AutoML generated entities](./images/automl-entities.png)\n",
    "\n",
    "Also it is possible to check the automated content classification - as below:\n",
    "\n",
    "![AutoML generated content classification](./images/automl-classification.png)"
   ]
  },
  {
   "cell_type": "markdown",
   "metadata": {},
   "source": [
    "### Preparation Steps\n",
    "\n",
    "Before starting, it is important to:\n",
    "\n",
    "**a) First, install the required Python modules:**\n",
    "- googleapis-common-protos\n",
    "- google-cloud-automl\n",
    "- google-cloud-translate\n",
    "\n",
    "To install those packages simply run:\n",
    "\n",
    "`$ sudo pip3 install googleapis-common-protos google-cloud-automl google-cloud-translate`\n",
    "\n",
    "**b) Also, validate that you have a valid Application Credential to use on this exercise**\n",
    "\n",
    "If you don't have or if you don't know, please check: https://cloud.google.com/docs/authentication/getting-started\n",
    "\n",
    "Below just follow and execute the code cells to perform the activity"
   ]
  },
  {
   "cell_type": "code",
   "execution_count": 1,
   "metadata": {},
   "outputs": [],
   "source": [
    "# import initial required modules\n",
    "import os\n",
    "import json"
   ]
  },
  {
   "cell_type": "code",
   "execution_count": 2,
   "metadata": {},
   "outputs": [],
   "source": [
    "## configure environment variables for authentication\n",
    "os.environ['GOOGLE_APPLICATION_CREDENTIALS'] = '<insert the path for your credentials here>'"
   ]
  },
  {
   "cell_type": "code",
   "execution_count": 3,
   "metadata": {},
   "outputs": [],
   "source": [
    "from google.cloud import language\n",
    "\n",
    "## Natural Language API client definition\n",
    "language_client = language.LanguageServiceClient()\n",
    "\n",
    "## sample text for test purposes\n",
    "# source: https://tommo.ricmais.com.br/noticia/friends-matt-leblanc-comenta-especial-em-entrevista/#new_tab\n",
    "text = 'Uma das comédias mais famosas da história, Friends ganhará um especial em maio, lançado pela HBO Max, \\\n",
    "        plataforma de streaming da Warner. Matt LeBlanc, um dos seis protagonistas da série, comentou a “reunião” \\\n",
    "        do elenco em uma entrevista, afirmando que o programa será como “reunir a banda sem instrumentos” (via TV Guide). \\\n",
    "        Em conversa no programa da cantora e apresentadora Kelly Clarkson, o intérprete de Joey Tribbiani confirmou o \\\n",
    "        formato não roteirizado do especial. Segundo descreveu o ator, a reunião de Friends contará com “nós seis \\\n",
    "        conversando sobre os bons e velhos tempos”. Um dos eventos televisivos mais pedidos e aguardados dos últimos anos, \\\n",
    "        a reunião de Friends precisou ter sua gravação, marcada para março, adiadapor causa do coronavírus. Ainda assim, a \\\n",
    "        HBO Max manteve a estreia do episódio para maio, junto com a chegada da plataforma. O especial, que será uma espécie \\\n",
    "        de conversa entre Jennifer Aniston, MattLeBlanc, Courtney Cox, MatthewPerry, Lisa Kudrow, DavidSchwimmer e os \\\n",
    "        produtores MarthaKauffman, David Crane e Kevin Bright, segue como um dos títulos originais a serem lançados na HBO Max, \\\n",
    "        plataforma de streaming da Warner, programada para ser lançada em algum momento em maio.'"
   ]
  },
  {
   "cell_type": "code",
   "execution_count": 4,
   "metadata": {},
   "outputs": [
    {
     "data": {
      "text/plain": [
       "['HBO Max',\n",
       " 'Friends',\n",
       " 'Warner',\n",
       " 'Matt LeBlanc',\n",
       " 'reunião',\n",
       " 'programa',\n",
       " 'protagonistas',\n",
       " 'elenco',\n",
       " 'entrevista',\n",
       " 'banda',\n",
       " 'intérprete',\n",
       " 'gravação',\n",
       " 'eventos',\n",
       " 'pedidos',\n",
       " 'conversa',\n",
       " 'chegada',\n",
       " 'episódio',\n",
       " 'MatthewPerry']"
      ]
     },
     "execution_count": 4,
     "metadata": {},
     "output_type": "execute_result"
    }
   ],
   "source": [
    "import googleapiclient.discovery\n",
    "\n",
    "## Analyzing text entities\n",
    "body = {\n",
    "        'document': {\n",
    "            'type': 'PLAIN_TEXT',\n",
    "            'content': text,\n",
    "        },\n",
    "        'encoding_type': 'UTF32',\n",
    "    }\n",
    "\n",
    "entities = []\n",
    "service = googleapiclient.discovery.build('language', 'v1')\n",
    "request = service.documents().analyzeEntities(body=body)\n",
    "response = request.execute()\n",
    "entity_types = ['PERSON', 'LOCATION', 'ORGANIZATION', 'EVENT', 'WORK_OF_ART', 'CONSUMER_GOOD'] \n",
    "for entity in response['entities']:\n",
    "  if (entity['salience']*100 >= 1) and (entity['type'] in entity_types):\n",
    "    if entity['name'] not in entities:\n",
    "        entities.append(entity['name'])\n",
    "\n",
    "# take a look on the entities captured\n",
    "entities"
   ]
  },
  {
   "cell_type": "code",
   "execution_count": 5,
   "metadata": {},
   "outputs": [
    {
     "data": {
      "text/plain": [
       "'One of the most famous comedies in history, Friends will win a special in May, released by HBO Max, Warner&#39;s streaming platform. Matt LeBlanc, one of the six protagonists of the series, commented on the cast&#39;s &quot;reunion&quot; in an interview, stating that the program will be like &quot;reuniting the band without instruments&quot; (via TV Guide). Speaking on the program by singer and presenter Kelly Clarkson, Joey Tribbiani&#39;s interpreter confirmed the non-scripted format of the special. According to the actor, the Friends meeting will feature &quot;the six of us talking about the good old days&quot;. One of the most requested and anticipated television events in recent years, the Friends meeting needed to have its recording, scheduled for March, postponed due to the coronavirus cause. Still, HBO Max maintained the episode&#39;s premiere for May, along with the platform&#39;s arrival. The special, which will be a kind of conversation between Jennifer Aniston, MattLeBlanc, Courtney Cox, MatthewPerry, Lisa Kudrow, DavidSchwimmer and producers MarthaKauffman, David Crane and Kevin Bright, follows as one of the original titles to be launched on HBO Max, platform Warner streaming, scheduled to launch sometime in May.'"
      ]
     },
     "execution_count": 5,
     "metadata": {},
     "output_type": "execute_result"
    }
   ],
   "source": [
    "from google.cloud import translate_v2 as translate\n",
    "\n",
    "## Translate API client definition\n",
    "client_translate = translate.Client()\n",
    "target_language = 'en'\n",
    "\n",
    "## translating the text from pt-BR to English\n",
    "translation = client_translate.translate(text, target_language=target_language)\n",
    "translated_text = translation['translatedText']\n",
    "\n",
    "# take a look on the translated text\n",
    "translated_text"
   ]
  },
  {
   "cell_type": "code",
   "execution_count": 6,
   "metadata": {},
   "outputs": [
    {
     "data": {
      "text/plain": [
       "[name: \"/Arts & Entertainment/Humor\"\n",
       "confidence: 0.9200000166893005\n",
       ", name: \"/Arts & Entertainment/TV & Video/TV Shows & Programs\"\n",
       "confidence: 0.9100000262260437\n",
       "]"
      ]
     },
     "execution_count": 6,
     "metadata": {},
     "output_type": "execute_result"
    }
   ],
   "source": [
    "import googleapiclient.discovery\n",
    "\n",
    "# performing the text classification\n",
    "categories = []\n",
    "document = language.types.Document(\n",
    "    content=translated_text,\n",
    "    type=language.enums.Document.Type.PLAIN_TEXT)\n",
    "response = language_client.classify_text(document)\n",
    "categories = response.categories\n",
    "\n",
    "# taking a look on the generated categories\n",
    "categories"
   ]
  },
  {
   "cell_type": "code",
   "execution_count": 7,
   "metadata": {},
   "outputs": [
    {
     "data": {
      "text/plain": [
       "['/ Artes e entretenimento / Humor',\n",
       " '/ Artes e entretenimento / TV e vídeo / Programas e programas de TV']"
      ]
     },
     "execution_count": 7,
     "metadata": {},
     "output_type": "execute_result"
    }
   ],
   "source": [
    "# bring the content back to Brazilian Portuguese\n",
    "target_language = 'pt'\n",
    "classes = []\n",
    "for category in categories:\n",
    "    if category.confidence*100 >= 60:\n",
    "        if category.name not in classes:\n",
    "            classes.append(client_translate.translate(category.name, \n",
    "                            target_language=target_language)['translatedText'])\n",
    "\n",
    "# take a look on the categories after the translation\n",
    "classes"
   ]
  },
  {
   "cell_type": "code",
   "execution_count": 8,
   "metadata": {},
   "outputs": [
    {
     "name": "stdout",
     "output_type": "stream",
     "text": [
      "the original text:\n",
      "Uma das comédias mais famosas da história, Friends ganhará um especial em maio, lançado pela HBO Max,         plataforma de streaming da Warner. Matt LeBlanc, um dos seis protagonistas da série, comentou a “reunião”         do elenco em uma entrevista, afirmando que o programa será como “reunir a banda sem instrumentos” (via TV Guide).         Em conversa no programa da cantora e apresentadora Kelly Clarkson, o intérprete de Joey Tribbiani confirmou o         formato não roteirizado do especial. Segundo descreveu o ator, a reunião de Friends contará com “nós seis         conversando sobre os bons e velhos tempos”. Um dos eventos televisivos mais pedidos e aguardados dos últimos anos,         a reunião de Friends precisou ter sua gravação, marcada para março, adiadapor causa do coronavírus. Ainda assim, a         HBO Max manteve a estreia do episódio para maio, junto com a chegada da plataforma. O especial, que será uma espécie         de conversa entre Jennifer Aniston, MattLeBlanc, Courtney Cox, MatthewPerry, Lisa Kudrow, DavidSchwimmer e os         produtores MarthaKauffman, David Crane e Kevin Bright, segue como um dos títulos originais a serem lançados na HBO Max,         plataforma de streaming da Warner, programada para ser lançada em algum momento em maio. \n",
      "\n",
      "text entities: ['HBO Max', 'Friends', 'Warner', 'Matt LeBlanc', 'reunião', 'programa', 'protagonistas', 'elenco', 'entrevista', 'banda', 'intérprete', 'gravação', 'eventos', 'pedidos', 'conversa', 'chegada', 'episódio', 'MatthewPerry']\n",
      "text category classes: ['/ Artes e entretenimento / Humor', '/ Artes e entretenimento / TV e vídeo / Programas e programas de TV']\n"
     ]
    }
   ],
   "source": [
    "# wrapping up - taking a look on everything\n",
    "print('the original text:')\n",
    "print(text, '\\n')\n",
    "print('text entities:', entities)\n",
    "print('text category classes:', classes)"
   ]
  },
  {
   "cell_type": "code",
   "execution_count": null,
   "metadata": {},
   "outputs": [],
   "source": []
  }
 ],
 "metadata": {
  "kernelspec": {
   "display_name": "Python 3",
   "language": "python",
   "name": "python3"
  },
  "language_info": {
   "codemirror_mode": {
    "name": "ipython",
    "version": 3
   },
   "file_extension": ".py",
   "mimetype": "text/x-python",
   "name": "python",
   "nbconvert_exporter": "python",
   "pygments_lexer": "ipython3",
   "version": "3.5.6"
  }
 },
 "nbformat": 4,
 "nbformat_minor": 2
}
